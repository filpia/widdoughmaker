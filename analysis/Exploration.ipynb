{
 "cells": [
  {
   "cell_type": "code",
   "execution_count": 8,
   "metadata": {},
   "outputs": [],
   "source": [
    "import pandas as pd\n",
    "import os\n",
    "os.environ['AWS_CONFIG_FILE'] = '/Users/filippiasevoli/working_copies/widdoughmaker/config/aws_config.txt'\n",
    "import boto3\n",
    "import s3urls\n",
    "\n",
    "from utils import run_athena_query"
   ]
  },
  {
   "cell_type": "code",
   "execution_count": 11,
   "metadata": {},
   "outputs": [
    {
     "name": "stdout",
     "output_type": "stream",
     "text": [
      "Starting Query Execution\n"
     ]
    },
    {
     "name": "stderr",
     "output_type": "stream",
     "text": [
      "WARNING:retry.api:, retrying in 3 seconds...\n"
     ]
    },
    {
     "name": "stdout",
     "output_type": "stream",
     "text": [
      "Checking if query has completed\n"
     ]
    },
    {
     "name": "stderr",
     "output_type": "stream",
     "text": [
      "WARNING:retry.api:, retrying in 6 seconds...\n",
      "WARNING:retry.api:, retrying in 12 seconds...\n",
      "WARNING:retry.api:, retrying in 24 seconds...\n"
     ]
    },
    {
     "name": "stdout",
     "output_type": "stream",
     "text": [
      "Downloading results into dataframe\n"
     ]
    },
    {
     "data": {
      "text/plain": [
       "(161670, 17)"
      ]
     },
     "execution_count": 11,
     "metadata": {},
     "output_type": "execute_result"
    }
   ],
   "source": [
    "\n",
    "athena = boto3.client('athena')\n",
    "s3 = boto3.client('s3')\n",
    "\n",
    "q = '''\n",
    "select * from bimonthly_snapshot\n",
    "'''\n",
    "\n",
    "df = run_athena_query(q)\n",
    "df.shape"
   ]
  },
  {
   "cell_type": "code",
   "execution_count": 21,
   "metadata": {},
   "outputs": [
    {
     "data": {
      "text/plain": [
       "happened_at\n",
       "2024-01-15 00:15:46    3562\n",
       "2024-01-01 00:01:52    2764\n",
       "2023-05-15 00:00:46    2692\n",
       "2023-05-01 00:01:53    2964\n",
       "2022-08-15 00:00:45    2380\n",
       "2022-08-01 00:00:45    2428\n",
       "2022-03-01 00:00:49    2558\n",
       "2022-02-15 00:00:48    2630\n",
       "2022-02-01 00:00:47    2376\n",
       "2022-01-15 00:00:47    2304\n",
       "2022-01-01 00:00:53    1916\n",
       "2021-12-15 00:00:48    2540\n",
       "2021-12-01 00:00:48    2492\n",
       "2021-11-15 00:00:48    1958\n",
       "2021-11-01 00:00:47    2164\n",
       "2021-10-15 00:00:47    2418\n",
       "2021-10-01 00:00:52    2024\n",
       "2021-09-15 00:00:46    2422\n",
       "2021-09-01 00:00:49    2478\n",
       "2021-08-15 00:00:47    2482\n",
       "2021-08-01 00:00:50    2478\n",
       "2021-07-15 00:00:50    2306\n",
       "2021-07-01 00:00:47    1956\n",
       "2021-06-15 00:00:50    2340\n",
       "2021-06-01 00:00:50    2194\n",
       "2021-05-15 00:00:47    2314\n",
       "2021-05-01 00:00:50    2310\n",
       "2021-04-15 00:00:48    2218\n",
       "2021-04-01 00:00:48    1938\n",
       "2021-03-15 00:00:47    2104\n",
       "2021-03-01 00:00:48    2158\n",
       "2021-02-15 00:00:47    2260\n",
       "2021-02-01 00:00:46    2216\n",
       "2021-01-15 00:00:47    2196\n",
       "2021-01-01 00:00:47    1830\n",
       "2020-12-15 00:00:47    2114\n",
       "2020-12-01 00:00:48    2088\n",
       "2020-11-15 00:00:48    2110\n",
       "2020-11-01 00:00:47    2222\n",
       "2020-10-15 00:00:46    2356\n",
       "2020-10-01 00:00:47    1830\n",
       "2020-09-15 00:00:48    1980\n",
       "2020-09-01 00:00:46    1948\n",
       "2020-08-15 00:00:47    2030\n",
       "2020-08-01 00:00:47    2126\n",
       "2020-07-15 00:00:47    1920\n",
       "2020-07-01 00:00:47    1864\n",
       "2020-06-15 00:00:48    1928\n",
       "2020-06-01 00:00:46    1862\n",
       "2020-05-15 00:00:46    1978\n",
       "Name: count, dtype: int64"
      ]
     },
     "execution_count": 21,
     "metadata": {},
     "output_type": "execute_result"
    }
   ],
   "source": [
    "# sorted(pd.to_datetime(df.happened_at).unique())\n",
    "pd.to_datetime(df.happened_at).value_counts().sort_index(ascending=False).head(50)"
   ]
  },
  {
   "cell_type": "code",
   "execution_count": 6,
   "metadata": {},
   "outputs": [
    {
     "data": {
      "text/plain": [
       "0"
      ]
     },
     "execution_count": 6,
     "metadata": {},
     "output_type": "execute_result"
    }
   ],
   "source": []
  },
  {
   "cell_type": "code",
   "execution_count": null,
   "metadata": {},
   "outputs": [],
   "source": []
  },
  {
   "cell_type": "code",
   "execution_count": null,
   "metadata": {},
   "outputs": [],
   "source": []
  },
  {
   "cell_type": "code",
   "execution_count": null,
   "metadata": {},
   "outputs": [],
   "source": []
  }
 ],
 "metadata": {
  "kernelspec": {
   "display_name": "widdoughmaker",
   "language": "python",
   "name": "python3"
  },
  "language_info": {
   "codemirror_mode": {
    "name": "ipython",
    "version": 3
   },
   "file_extension": ".py",
   "mimetype": "text/x-python",
   "name": "python",
   "nbconvert_exporter": "python",
   "pygments_lexer": "ipython3",
   "version": "3.11.5"
  }
 },
 "nbformat": 4,
 "nbformat_minor": 2
}
